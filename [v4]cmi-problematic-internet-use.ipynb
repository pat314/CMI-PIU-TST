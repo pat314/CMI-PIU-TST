{
 "cells": [
  {
   "cell_type": "code",
   "execution_count": 1,
   "id": "caca3dec",
   "metadata": {
    "execution": {
     "iopub.execute_input": "2024-12-05T17:44:31.504904Z",
     "iopub.status.busy": "2024-12-05T17:44:31.504571Z",
     "iopub.status.idle": "2024-12-05T17:44:31.508933Z",
     "shell.execute_reply": "2024-12-05T17:44:31.508341Z"
    },
    "papermill": {
     "duration": 0.01256,
     "end_time": "2024-12-05T17:44:31.510469",
     "exception": false,
     "start_time": "2024-12-05T17:44:31.497909",
     "status": "completed"
    },
    "tags": []
   },
   "outputs": [],
   "source": [
    "# %pip install pandas\n",
    "# %pip install numpy\n",
    "# %pip install scikit-learn\n",
    "# %pip install tqdm"
   ]
  },
  {
   "cell_type": "code",
   "execution_count": 2,
   "id": "41ee9b75",
   "metadata": {
    "execution": {
     "iopub.execute_input": "2024-12-05T17:44:31.521894Z",
     "iopub.status.busy": "2024-12-05T17:44:31.521655Z",
     "iopub.status.idle": "2024-12-05T17:44:33.944094Z",
     "shell.execute_reply": "2024-12-05T17:44:33.943350Z"
    },
    "papermill": {
     "duration": 2.430744,
     "end_time": "2024-12-05T17:44:33.946090",
     "exception": false,
     "start_time": "2024-12-05T17:44:31.515346",
     "status": "completed"
    },
    "tags": []
   },
   "outputs": [],
   "source": [
    "import pandas as pd\n",
    "import numpy as np\n",
    "import os\n",
    "import seaborn as sns\n",
    "import matplotlib.pyplot as plt\n",
    "from concurrent.futures import ThreadPoolExecutor\n",
    "from tqdm import tqdm\n",
    "\n",
    "from sklearn.impute import KNNImputer\n",
    "from sklearn.model_selection import train_test_split\n",
    "from sklearn.ensemble import RandomForestRegressor"
   ]
  },
  {
   "cell_type": "code",
   "execution_count": 3,
   "id": "1c886780",
   "metadata": {
    "execution": {
     "iopub.execute_input": "2024-12-05T17:44:33.957034Z",
     "iopub.status.busy": "2024-12-05T17:44:33.956620Z",
     "iopub.status.idle": "2024-12-05T17:44:33.960906Z",
     "shell.execute_reply": "2024-12-05T17:44:33.960265Z"
    },
    "papermill": {
     "duration": 0.011259,
     "end_time": "2024-12-05T17:44:33.962389",
     "exception": false,
     "start_time": "2024-12-05T17:44:33.951130",
     "status": "completed"
    },
    "tags": []
   },
   "outputs": [],
   "source": [
    "DATA_DICTIONARY_PATH = (\n",
    "    \"/kaggle/input/child-mind-institute-problematic-internet-use/data_dictionary.csv\"\n",
    ")\n",
    "\n",
    "PARQUET_TRAIN_PATH = (\n",
    "    \"/kaggle/input/child-mind-institute-problematic-internet-use/series_train.parquet\"\n",
    ")\n",
    "\n",
    "PARQUET_TEST_PATH = (\n",
    "    \"/kaggle/input/child-mind-institute-problematic-internet-use/series_test.parquet\"\n",
    ")\n",
    "\n",
    "CSV_TRAIN_PATH = \"/kaggle/input/child-mind-institute-problematic-internet-use/train.csv\"\n",
    "CSV_TEST_PATH = \"/kaggle/input/child-mind-institute-problematic-internet-use/test.csv\""
   ]
  },
  {
   "cell_type": "markdown",
   "id": "9fdcfe88",
   "metadata": {
    "papermill": {
     "duration": 0.004418,
     "end_time": "2024-12-05T17:44:33.971222",
     "exception": false,
     "start_time": "2024-12-05T17:44:33.966804",
     "status": "completed"
    },
    "tags": []
   },
   "source": [
    "# Data Preprocessing\n"
   ]
  },
  {
   "cell_type": "code",
   "execution_count": 4,
   "id": "2c597ab7",
   "metadata": {
    "execution": {
     "iopub.execute_input": "2024-12-05T17:44:33.981164Z",
     "iopub.status.busy": "2024-12-05T17:44:33.980889Z",
     "iopub.status.idle": "2024-12-05T17:44:33.994098Z",
     "shell.execute_reply": "2024-12-05T17:44:33.993451Z"
    },
    "papermill": {
     "duration": 0.020112,
     "end_time": "2024-12-05T17:44:33.995737",
     "exception": false,
     "start_time": "2024-12-05T17:44:33.975625",
     "status": "completed"
    },
    "tags": []
   },
   "outputs": [],
   "source": [
    "df_data_dictionary = pd.read_csv(\n",
    "    DATA_DICTIONARY_PATH\n",
    ")"
   ]
  },
  {
   "cell_type": "code",
   "execution_count": 5,
   "id": "6c803e8c",
   "metadata": {
    "execution": {
     "iopub.execute_input": "2024-12-05T17:44:34.005861Z",
     "iopub.status.busy": "2024-12-05T17:44:34.005614Z",
     "iopub.status.idle": "2024-12-05T17:44:34.009910Z",
     "shell.execute_reply": "2024-12-05T17:44:34.009194Z"
    },
    "papermill": {
     "duration": 0.01113,
     "end_time": "2024-12-05T17:44:34.011515",
     "exception": false,
     "start_time": "2024-12-05T17:44:34.000385",
     "status": "completed"
    },
    "tags": []
   },
   "outputs": [],
   "source": [
    "def process_parquet_file(path: str) -> list:\n",
    "    df = pd.read_parquet(path)\n",
    "    df.drop(\"step\", axis=1, inplace=True)\n",
    "    res = df.describe().values.flatten().tolist()\n",
    "    id = path.split(\"=\")[-1].split(\"\\\\\")[0]\n",
    "    res.append(id)\n",
    "\n",
    "    return res"
   ]
  },
  {
   "cell_type": "code",
   "execution_count": 6,
   "id": "74048a6c",
   "metadata": {
    "execution": {
     "iopub.execute_input": "2024-12-05T17:44:34.021315Z",
     "iopub.status.busy": "2024-12-05T17:44:34.021072Z",
     "iopub.status.idle": "2024-12-05T17:44:34.025425Z",
     "shell.execute_reply": "2024-12-05T17:44:34.024783Z"
    },
    "papermill": {
     "duration": 0.011018,
     "end_time": "2024-12-05T17:44:34.026915",
     "exception": false,
     "start_time": "2024-12-05T17:44:34.015897",
     "status": "completed"
    },
    "tags": []
   },
   "outputs": [],
   "source": [
    "def load_parquet_files(dir: str) -> pd.DataFrame:\n",
    "    all_ids = os.listdir(dir)\n",
    "    all_parquet_files = [os.path.join(dir, id, \"part-0.parquet\") for id in all_ids]\n",
    "\n",
    "    with ThreadPoolExecutor(max_workers=4) as excuter:\n",
    "        results = list(\n",
    "            tqdm(\n",
    "                excuter.map(process_parquet_file, all_parquet_files), total=len(all_ids)\n",
    "            )\n",
    "        )\n",
    "\n",
    "    return results"
   ]
  },
  {
   "cell_type": "code",
   "execution_count": 7,
   "id": "151b7045",
   "metadata": {
    "execution": {
     "iopub.execute_input": "2024-12-05T17:44:34.036692Z",
     "iopub.status.busy": "2024-12-05T17:44:34.036448Z",
     "iopub.status.idle": "2024-12-05T17:44:34.040647Z",
     "shell.execute_reply": "2024-12-05T17:44:34.040039Z"
    },
    "papermill": {
     "duration": 0.010757,
     "end_time": "2024-12-05T17:44:34.042148",
     "exception": false,
     "start_time": "2024-12-05T17:44:34.031391",
     "status": "completed"
    },
    "tags": []
   },
   "outputs": [],
   "source": [
    "def create_df_parquet(dir: str) -> pd.DataFrame:\n",
    "    time_series_data = load_parquet_files(dir)\n",
    "    df = pd.DataFrame(\n",
    "        data=time_series_data,\n",
    "        columns=[\"Stat_\" + str(i) for i in range(len(time_series_data[0]))],\n",
    "    )\n",
    "\n",
    "    df.rename(columns={df.columns[-1]: \"id\"}, inplace=True)\n",
    "\n",
    "    return df"
   ]
  },
  {
   "cell_type": "code",
   "execution_count": 8,
   "id": "8ae54362",
   "metadata": {
    "execution": {
     "iopub.execute_input": "2024-12-05T17:44:34.051936Z",
     "iopub.status.busy": "2024-12-05T17:44:34.051697Z",
     "iopub.status.idle": "2024-12-05T17:45:46.164456Z",
     "shell.execute_reply": "2024-12-05T17:45:46.163356Z"
    },
    "papermill": {
     "duration": 72.119589,
     "end_time": "2024-12-05T17:45:46.166174",
     "exception": false,
     "start_time": "2024-12-05T17:44:34.046585",
     "status": "completed"
    },
    "tags": []
   },
   "outputs": [
    {
     "name": "stderr",
     "output_type": "stream",
     "text": [
      "100%|██████████| 996/996 [01:11<00:00, 13.87it/s]\n",
      "100%|██████████| 2/2 [00:00<00:00,  8.71it/s]\n"
     ]
    }
   ],
   "source": [
    "df_train_parquet = create_df_parquet(PARQUET_TRAIN_PATH)\n",
    "\n",
    "df_test_parquet = create_df_parquet(PARQUET_TEST_PATH)"
   ]
  },
  {
   "cell_type": "code",
   "execution_count": 9,
   "id": "4b0ee139",
   "metadata": {
    "execution": {
     "iopub.execute_input": "2024-12-05T17:45:46.208681Z",
     "iopub.status.busy": "2024-12-05T17:45:46.208382Z",
     "iopub.status.idle": "2024-12-05T17:45:46.285501Z",
     "shell.execute_reply": "2024-12-05T17:45:46.284351Z"
    },
    "papermill": {
     "duration": 0.101003,
     "end_time": "2024-12-05T17:45:46.288364",
     "exception": false,
     "start_time": "2024-12-05T17:45:46.187361",
     "status": "completed"
    },
    "tags": []
   },
   "outputs": [],
   "source": [
    "df_train_csv = pd.read_csv(CSV_TRAIN_PATH)\n",
    "\n",
    "df_test_csv = pd.read_csv(CSV_TEST_PATH)"
   ]
  },
  {
   "cell_type": "code",
   "execution_count": 10,
   "id": "e4ac2b10",
   "metadata": {
    "execution": {
     "iopub.execute_input": "2024-12-05T17:45:46.331562Z",
     "iopub.status.busy": "2024-12-05T17:45:46.331264Z",
     "iopub.status.idle": "2024-12-05T17:45:46.353024Z",
     "shell.execute_reply": "2024-12-05T17:45:46.352367Z"
    },
    "papermill": {
     "duration": 0.044674,
     "end_time": "2024-12-05T17:45:46.354580",
     "exception": false,
     "start_time": "2024-12-05T17:45:46.309906",
     "status": "completed"
    },
    "tags": []
   },
   "outputs": [],
   "source": [
    "df_train = pd.merge(df_train_csv, df_train_parquet, how=\"left\", on=\"id\")\n",
    "df_test = pd.merge(df_test_csv, df_test_parquet, how=\"left\", on=\"id\")"
   ]
  },
  {
   "cell_type": "code",
   "execution_count": 11,
   "id": "be5019a5",
   "metadata": {
    "execution": {
     "iopub.execute_input": "2024-12-05T17:45:46.395415Z",
     "iopub.status.busy": "2024-12-05T17:45:46.395119Z",
     "iopub.status.idle": "2024-12-05T17:45:46.398827Z",
     "shell.execute_reply": "2024-12-05T17:45:46.398077Z"
    },
    "papermill": {
     "duration": 0.025859,
     "end_time": "2024-12-05T17:45:46.400374",
     "exception": false,
     "start_time": "2024-12-05T17:45:46.374515",
     "status": "completed"
    },
    "tags": []
   },
   "outputs": [],
   "source": [
    "test_id = df_test[\"id\"]"
   ]
  },
  {
   "cell_type": "code",
   "execution_count": 12,
   "id": "e25eec20",
   "metadata": {
    "execution": {
     "iopub.execute_input": "2024-12-05T17:45:46.441732Z",
     "iopub.status.busy": "2024-12-05T17:45:46.441452Z",
     "iopub.status.idle": "2024-12-05T17:45:46.449116Z",
     "shell.execute_reply": "2024-12-05T17:45:46.448528Z"
    },
    "papermill": {
     "duration": 0.030458,
     "end_time": "2024-12-05T17:45:46.450720",
     "exception": false,
     "start_time": "2024-12-05T17:45:46.420262",
     "status": "completed"
    },
    "tags": []
   },
   "outputs": [],
   "source": [
    "df_train.drop(\"id\", axis=1, inplace=True)\n",
    "df_test.drop(\"id\", axis=1, inplace=True)"
   ]
  },
  {
   "cell_type": "code",
   "execution_count": 13,
   "id": "956e4ced",
   "metadata": {
    "execution": {
     "iopub.execute_input": "2024-12-05T17:45:46.491440Z",
     "iopub.status.busy": "2024-12-05T17:45:46.490888Z",
     "iopub.status.idle": "2024-12-05T17:45:46.502063Z",
     "shell.execute_reply": "2024-12-05T17:45:46.501242Z"
    },
    "papermill": {
     "duration": 0.033436,
     "end_time": "2024-12-05T17:45:46.503798",
     "exception": false,
     "start_time": "2024-12-05T17:45:46.470362",
     "status": "completed"
    },
    "tags": []
   },
   "outputs": [],
   "source": [
    "df_train = df_train[[col for col in df_train.columns if \"PCIAT\" not in col]]\n",
    "df_train = df_train[[col for col in df_train if col != \"sii\"] + [\"sii\"]]\n",
    "df_train.dropna(subset=\"sii\", inplace=True)"
   ]
  },
  {
   "cell_type": "code",
   "execution_count": 14,
   "id": "ce8428d3",
   "metadata": {
    "execution": {
     "iopub.execute_input": "2024-12-05T17:45:46.544721Z",
     "iopub.status.busy": "2024-12-05T17:45:46.544447Z",
     "iopub.status.idle": "2024-12-05T17:45:46.551313Z",
     "shell.execute_reply": "2024-12-05T17:45:46.550387Z"
    },
    "papermill": {
     "duration": 0.029025,
     "end_time": "2024-12-05T17:45:46.552900",
     "exception": false,
     "start_time": "2024-12-05T17:45:46.523875",
     "status": "completed"
    },
    "tags": []
   },
   "outputs": [],
   "source": [
    "categorical_columns = df_data_dictionary[\n",
    "    df_data_dictionary[\"Type\"].str.contains(\"categorical\", case=False)\n",
    "][\"Field\"].tolist()\n",
    "\n",
    "season_columns = df_data_dictionary[\n",
    "    df_data_dictionary[\"Type\"].str.contains(\"str\", case=False)\n",
    "][\"Field\"].tolist()\n",
    "\n",
    "categorical_columns = [i for i in categorical_columns if \"PCIAT\" not in i]\n",
    "season_columns = [i for i in season_columns if \"PCIAT\" not in i][1:]"
   ]
  },
  {
   "cell_type": "code",
   "execution_count": 15,
   "id": "f31a985f",
   "metadata": {
    "execution": {
     "iopub.execute_input": "2024-12-05T17:45:46.598892Z",
     "iopub.status.busy": "2024-12-05T17:45:46.598099Z",
     "iopub.status.idle": "2024-12-05T17:45:46.602377Z",
     "shell.execute_reply": "2024-12-05T17:45:46.601577Z"
    },
    "papermill": {
     "duration": 0.026424,
     "end_time": "2024-12-05T17:45:46.603980",
     "exception": false,
     "start_time": "2024-12-05T17:45:46.577556",
     "status": "completed"
    },
    "tags": []
   },
   "outputs": [],
   "source": [
    "def fill_missing_seasons(df: pd.DataFrame) -> pd.DataFrame:\n",
    "\n",
    "    for col in season_columns:\n",
    "        df[col] = df[col].fillna(\"Missing\")\n",
    "\n",
    "    return df"
   ]
  },
  {
   "cell_type": "code",
   "execution_count": 16,
   "id": "b68cf64d",
   "metadata": {
    "execution": {
     "iopub.execute_input": "2024-12-05T17:45:46.644285Z",
     "iopub.status.busy": "2024-12-05T17:45:46.643962Z",
     "iopub.status.idle": "2024-12-05T17:45:46.655901Z",
     "shell.execute_reply": "2024-12-05T17:45:46.655331Z"
    },
    "papermill": {
     "duration": 0.033786,
     "end_time": "2024-12-05T17:45:46.657404",
     "exception": false,
     "start_time": "2024-12-05T17:45:46.623618",
     "status": "completed"
    },
    "tags": []
   },
   "outputs": [],
   "source": [
    "df_train = fill_missing_seasons(df_train)\n",
    "df_test = fill_missing_seasons(df_test)"
   ]
  },
  {
   "cell_type": "code",
   "execution_count": 17,
   "id": "c83ae9c4",
   "metadata": {
    "execution": {
     "iopub.execute_input": "2024-12-05T17:45:46.697847Z",
     "iopub.status.busy": "2024-12-05T17:45:46.697578Z",
     "iopub.status.idle": "2024-12-05T17:45:46.701233Z",
     "shell.execute_reply": "2024-12-05T17:45:46.700436Z"
    },
    "papermill": {
     "duration": 0.025798,
     "end_time": "2024-12-05T17:45:46.702750",
     "exception": false,
     "start_time": "2024-12-05T17:45:46.676952",
     "status": "completed"
    },
    "tags": []
   },
   "outputs": [],
   "source": [
    "columns_to_encode = season_columns + categorical_columns"
   ]
  },
  {
   "cell_type": "code",
   "execution_count": 18,
   "id": "383e761e",
   "metadata": {
    "execution": {
     "iopub.execute_input": "2024-12-05T17:45:46.743132Z",
     "iopub.status.busy": "2024-12-05T17:45:46.742825Z",
     "iopub.status.idle": "2024-12-05T17:45:46.747178Z",
     "shell.execute_reply": "2024-12-05T17:45:46.746411Z"
    },
    "papermill": {
     "duration": 0.026344,
     "end_time": "2024-12-05T17:45:46.748763",
     "exception": false,
     "start_time": "2024-12-05T17:45:46.722419",
     "status": "completed"
    },
    "tags": []
   },
   "outputs": [],
   "source": [
    "def onehot_encoding(df: pd.DataFrame) -> pd.DataFrame:\n",
    "    for col in columns_to_encode:\n",
    "        df_encoded = pd.get_dummies(df[col], prefix=col).astype(int)\n",
    "        df = pd.concat([df.drop(col, axis=1), df_encoded], axis=1)\n",
    "\n",
    "    return df"
   ]
  },
  {
   "cell_type": "code",
   "execution_count": 19,
   "id": "7ddbe61a",
   "metadata": {
    "execution": {
     "iopub.execute_input": "2024-12-05T17:45:46.789616Z",
     "iopub.status.busy": "2024-12-05T17:45:46.789337Z",
     "iopub.status.idle": "2024-12-05T17:45:46.885700Z",
     "shell.execute_reply": "2024-12-05T17:45:46.884976Z"
    },
    "papermill": {
     "duration": 0.119285,
     "end_time": "2024-12-05T17:45:46.887716",
     "exception": false,
     "start_time": "2024-12-05T17:45:46.768431",
     "status": "completed"
    },
    "tags": []
   },
   "outputs": [],
   "source": [
    "df_train = onehot_encoding(df_train)\n",
    "df_test = onehot_encoding(df_test)"
   ]
  },
  {
   "cell_type": "code",
   "execution_count": 20,
   "id": "e7bbb18f",
   "metadata": {
    "execution": {
     "iopub.execute_input": "2024-12-05T17:45:46.929425Z",
     "iopub.status.busy": "2024-12-05T17:45:46.929131Z",
     "iopub.status.idle": "2024-12-05T17:45:46.939343Z",
     "shell.execute_reply": "2024-12-05T17:45:46.938748Z"
    },
    "papermill": {
     "duration": 0.032694,
     "end_time": "2024-12-05T17:45:46.940937",
     "exception": false,
     "start_time": "2024-12-05T17:45:46.908243",
     "status": "completed"
    },
    "tags": []
   },
   "outputs": [],
   "source": [
    "missing_columns = set(df_train.columns) - set(df_test.columns)\n",
    "\n",
    "for col in missing_columns:\n",
    "    df_test[col] = 0\n",
    "\n",
    "df_test = df_test[df_train.columns]\n",
    "df_test = df_test.drop(columns=\"sii\", axis=1)"
   ]
  },
  {
   "cell_type": "code",
   "execution_count": 21,
   "id": "7aaa8da2",
   "metadata": {
    "execution": {
     "iopub.execute_input": "2024-12-05T17:45:46.981603Z",
     "iopub.status.busy": "2024-12-05T17:45:46.981330Z",
     "iopub.status.idle": "2024-12-05T17:45:46.985607Z",
     "shell.execute_reply": "2024-12-05T17:45:46.984795Z"
    },
    "papermill": {
     "duration": 0.026233,
     "end_time": "2024-12-05T17:45:46.987143",
     "exception": false,
     "start_time": "2024-12-05T17:45:46.960910",
     "status": "completed"
    },
    "tags": []
   },
   "outputs": [
    {
     "name": "stdout",
     "output_type": "stream",
     "text": [
      "(2736, 213)\n",
      "(20, 212)\n"
     ]
    }
   ],
   "source": [
    "print(df_train.shape)\n",
    "print(df_test.shape)"
   ]
  },
  {
   "cell_type": "code",
   "execution_count": 22,
   "id": "2fa16577",
   "metadata": {
    "execution": {
     "iopub.execute_input": "2024-12-05T17:45:47.028135Z",
     "iopub.status.busy": "2024-12-05T17:45:47.027850Z",
     "iopub.status.idle": "2024-12-05T17:45:50.072678Z",
     "shell.execute_reply": "2024-12-05T17:45:50.071968Z"
    },
    "papermill": {
     "duration": 3.06792,
     "end_time": "2024-12-05T17:45:50.074814",
     "exception": false,
     "start_time": "2024-12-05T17:45:47.006894",
     "status": "completed"
    },
    "tags": []
   },
   "outputs": [],
   "source": [
    "imputer = KNNImputer(n_neighbors=10, weights=\"distance\", keep_empty_features=True)\n",
    "\n",
    "imputed_train = imputer.fit_transform(df_train)\n",
    "imputed_test = imputer.fit_transform(df_test)\n",
    "\n",
    "df_train = pd.DataFrame(imputed_train, columns=df_train.columns)\n",
    "df_test = pd.DataFrame(imputed_test, columns=df_test.columns)"
   ]
  },
  {
   "cell_type": "markdown",
   "id": "c0930a58",
   "metadata": {
    "papermill": {
     "duration": 0.019611,
     "end_time": "2024-12-05T17:45:50.115266",
     "exception": false,
     "start_time": "2024-12-05T17:45:50.095655",
     "status": "completed"
    },
    "tags": []
   },
   "source": [
    "# Train model\n"
   ]
  },
  {
   "cell_type": "code",
   "execution_count": 23,
   "id": "47fa5b36",
   "metadata": {
    "execution": {
     "iopub.execute_input": "2024-12-05T17:45:50.156400Z",
     "iopub.status.busy": "2024-12-05T17:45:50.156094Z",
     "iopub.status.idle": "2024-12-05T17:45:50.161904Z",
     "shell.execute_reply": "2024-12-05T17:45:50.161150Z"
    },
    "papermill": {
     "duration": 0.028571,
     "end_time": "2024-12-05T17:45:50.163590",
     "exception": false,
     "start_time": "2024-12-05T17:45:50.135019",
     "status": "completed"
    },
    "tags": []
   },
   "outputs": [],
   "source": [
    "x = df_train.drop(columns=[\"sii\"], axis=1)\n",
    "y = df_train[\"sii\"]\n",
    "\n",
    "model = RandomForestRegressor(\n",
    "    n_estimators=200,\n",
    "    random_state=42,\n",
    "    max_depth=20,\n",
    "    min_samples_split=5,\n",
    "    min_samples_leaf=2,\n",
    "    bootstrap=True,\n",
    ")"
   ]
  },
  {
   "cell_type": "code",
   "execution_count": 24,
   "id": "232461c5",
   "metadata": {
    "execution": {
     "iopub.execute_input": "2024-12-05T17:45:50.204349Z",
     "iopub.status.busy": "2024-12-05T17:45:50.204090Z",
     "iopub.status.idle": "2024-12-05T17:47:44.452207Z",
     "shell.execute_reply": "2024-12-05T17:47:44.451241Z"
    },
    "papermill": {
     "duration": 114.270929,
     "end_time": "2024-12-05T17:47:44.454539",
     "exception": false,
     "start_time": "2024-12-05T17:45:50.183610",
     "status": "completed"
    },
    "tags": []
   },
   "outputs": [],
   "source": [
    "for i in range(10):\n",
    "    x_train, x_test, y_train, y_test = train_test_split(\n",
    "        x, y, test_size=0.1, random_state=i, shuffle=True\n",
    "    )\n",
    "    model.fit(x_train, y_train)"
   ]
  },
  {
   "cell_type": "code",
   "execution_count": 25,
   "id": "3da6e524",
   "metadata": {
    "execution": {
     "iopub.execute_input": "2024-12-05T17:47:44.496136Z",
     "iopub.status.busy": "2024-12-05T17:47:44.495801Z",
     "iopub.status.idle": "2024-12-05T17:47:44.509826Z",
     "shell.execute_reply": "2024-12-05T17:47:44.509025Z"
    },
    "papermill": {
     "duration": 0.036592,
     "end_time": "2024-12-05T17:47:44.511486",
     "exception": false,
     "start_time": "2024-12-05T17:47:44.474894",
     "status": "completed"
    },
    "tags": []
   },
   "outputs": [],
   "source": [
    "y_pred = model.predict(df_test)\n",
    "rounded_pred = np.round(y_pred).astype(int)"
   ]
  },
  {
   "cell_type": "markdown",
   "id": "e9e52cbc",
   "metadata": {
    "papermill": {
     "duration": 0.059947,
     "end_time": "2024-12-05T17:47:44.591256",
     "exception": false,
     "start_time": "2024-12-05T17:47:44.531309",
     "status": "completed"
    },
    "tags": []
   },
   "source": [
    "# Submission\n"
   ]
  },
  {
   "cell_type": "code",
   "execution_count": 26,
   "id": "8eb01d07",
   "metadata": {
    "execution": {
     "iopub.execute_input": "2024-12-05T17:47:44.632360Z",
     "iopub.status.busy": "2024-12-05T17:47:44.631559Z",
     "iopub.status.idle": "2024-12-05T17:47:44.636239Z",
     "shell.execute_reply": "2024-12-05T17:47:44.635388Z"
    },
    "papermill": {
     "duration": 0.026739,
     "end_time": "2024-12-05T17:47:44.637718",
     "exception": false,
     "start_time": "2024-12-05T17:47:44.610979",
     "status": "completed"
    },
    "tags": []
   },
   "outputs": [],
   "source": [
    "submission = pd.DataFrame({\"id\": test_id, \"sii\": rounded_pred})"
   ]
  },
  {
   "cell_type": "code",
   "execution_count": 27,
   "id": "74fa336f",
   "metadata": {
    "execution": {
     "iopub.execute_input": "2024-12-05T17:47:44.679102Z",
     "iopub.status.busy": "2024-12-05T17:47:44.678793Z",
     "iopub.status.idle": "2024-12-05T17:47:44.684695Z",
     "shell.execute_reply": "2024-12-05T17:47:44.684098Z"
    },
    "papermill": {
     "duration": 0.027758,
     "end_time": "2024-12-05T17:47:44.686189",
     "exception": false,
     "start_time": "2024-12-05T17:47:44.658431",
     "status": "completed"
    },
    "tags": []
   },
   "outputs": [],
   "source": [
    "submission.to_csv(\"submission.csv\", index=False)"
   ]
  }
 ],
 "metadata": {
  "kaggle": {
   "accelerator": "gpu",
   "dataSources": [
    {
     "databundleVersionId": 9643020,
     "sourceId": 81933,
     "sourceType": "competition"
    }
   ],
   "isGpuEnabled": true,
   "isInternetEnabled": false,
   "language": "python",
   "sourceType": "notebook"
  },
  "kernelspec": {
   "display_name": "Python 3",
   "language": "python",
   "name": "python3"
  },
  "language_info": {
   "codemirror_mode": {
    "name": "ipython",
    "version": 3
   },
   "file_extension": ".py",
   "mimetype": "text/x-python",
   "name": "python",
   "nbconvert_exporter": "python",
   "pygments_lexer": "ipython3",
   "version": "3.10.14"
  },
  "papermill": {
   "default_parameters": {},
   "duration": 196.27882,
   "end_time": "2024-12-05T17:47:45.223495",
   "environment_variables": {},
   "exception": null,
   "input_path": "__notebook__.ipynb",
   "output_path": "__notebook__.ipynb",
   "parameters": {},
   "start_time": "2024-12-05T17:44:28.944675",
   "version": "2.6.0"
  }
 },
 "nbformat": 4,
 "nbformat_minor": 5
}
