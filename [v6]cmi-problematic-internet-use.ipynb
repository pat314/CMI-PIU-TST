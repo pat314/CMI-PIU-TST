{
 "cells": [
  {
   "cell_type": "code",
   "execution_count": 1,
   "id": "e4842872",
   "metadata": {
    "execution": {
     "iopub.execute_input": "2024-12-06T11:21:40.158324Z",
     "iopub.status.busy": "2024-12-06T11:21:40.158010Z",
     "iopub.status.idle": "2024-12-06T11:21:40.162697Z",
     "shell.execute_reply": "2024-12-06T11:21:40.161884Z"
    },
    "papermill": {
     "duration": 0.013239,
     "end_time": "2024-12-06T11:21:40.164503",
     "exception": false,
     "start_time": "2024-12-06T11:21:40.151264",
     "status": "completed"
    },
    "tags": []
   },
   "outputs": [],
   "source": [
    "# %pip install pandas\n",
    "# %pip install numpy\n",
    "# %pip install scikit-learn\n",
    "# %pip install tqdm"
   ]
  },
  {
   "cell_type": "code",
   "execution_count": 2,
   "id": "19037697",
   "metadata": {
    "execution": {
     "iopub.execute_input": "2024-12-06T11:21:40.175809Z",
     "iopub.status.busy": "2024-12-06T11:21:40.175579Z",
     "iopub.status.idle": "2024-12-06T11:21:42.522137Z",
     "shell.execute_reply": "2024-12-06T11:21:42.521447Z"
    },
    "papermill": {
     "duration": 2.355134,
     "end_time": "2024-12-06T11:21:42.524391",
     "exception": false,
     "start_time": "2024-12-06T11:21:40.169257",
     "status": "completed"
    },
    "tags": []
   },
   "outputs": [],
   "source": [
    "import pandas as pd\n",
    "import numpy as np\n",
    "import os\n",
    "import seaborn as sns\n",
    "import matplotlib.pyplot as plt\n",
    "from concurrent.futures import ThreadPoolExecutor\n",
    "from tqdm import tqdm\n",
    "\n",
    "from sklearn.impute import KNNImputer\n",
    "from sklearn.model_selection import train_test_split\n",
    "from sklearn.ensemble import RandomForestRegressor"
   ]
  },
  {
   "cell_type": "code",
   "execution_count": 3,
   "id": "f682d8a8",
   "metadata": {
    "execution": {
     "iopub.execute_input": "2024-12-06T11:21:42.535283Z",
     "iopub.status.busy": "2024-12-06T11:21:42.534912Z",
     "iopub.status.idle": "2024-12-06T11:21:42.539189Z",
     "shell.execute_reply": "2024-12-06T11:21:42.538386Z"
    },
    "papermill": {
     "duration": 0.011338,
     "end_time": "2024-12-06T11:21:42.540746",
     "exception": false,
     "start_time": "2024-12-06T11:21:42.529408",
     "status": "completed"
    },
    "tags": []
   },
   "outputs": [],
   "source": [
    "DATA_DICTIONARY_PATH = (\n",
    "    \"/kaggle/input/child-mind-institute-problematic-internet-use/data_dictionary.csv\"\n",
    ")\n",
    "\n",
    "PARQUET_TRAIN_PATH = (\n",
    "    \"/kaggle/input/child-mind-institute-problematic-internet-use/series_train.parquet\"\n",
    ")\n",
    "\n",
    "PARQUET_TEST_PATH = (\n",
    "    \"/kaggle/input/child-mind-institute-problematic-internet-use/series_test.parquet\"\n",
    ")\n",
    "\n",
    "CSV_TRAIN_PATH = \"/kaggle/input/child-mind-institute-problematic-internet-use/train.csv\"\n",
    "CSV_TEST_PATH = \"/kaggle/input/child-mind-institute-problematic-internet-use/test.csv\""
   ]
  },
  {
   "cell_type": "markdown",
   "id": "d1c7d370",
   "metadata": {
    "papermill": {
     "duration": 0.004477,
     "end_time": "2024-12-06T11:21:42.549888",
     "exception": false,
     "start_time": "2024-12-06T11:21:42.545411",
     "status": "completed"
    },
    "tags": []
   },
   "source": [
    "# Data Preprocessing\n"
   ]
  },
  {
   "cell_type": "code",
   "execution_count": 4,
   "id": "09f55d2a",
   "metadata": {
    "execution": {
     "iopub.execute_input": "2024-12-06T11:21:42.560066Z",
     "iopub.status.busy": "2024-12-06T11:21:42.559610Z",
     "iopub.status.idle": "2024-12-06T11:21:42.572168Z",
     "shell.execute_reply": "2024-12-06T11:21:42.571557Z"
    },
    "papermill": {
     "duration": 0.019309,
     "end_time": "2024-12-06T11:21:42.573732",
     "exception": false,
     "start_time": "2024-12-06T11:21:42.554423",
     "status": "completed"
    },
    "tags": []
   },
   "outputs": [],
   "source": [
    "df_data_dictionary = pd.read_csv(\n",
    "    DATA_DICTIONARY_PATH\n",
    ")"
   ]
  },
  {
   "cell_type": "code",
   "execution_count": 5,
   "id": "027c73f3",
   "metadata": {
    "execution": {
     "iopub.execute_input": "2024-12-06T11:21:42.584646Z",
     "iopub.status.busy": "2024-12-06T11:21:42.584122Z",
     "iopub.status.idle": "2024-12-06T11:21:42.588421Z",
     "shell.execute_reply": "2024-12-06T11:21:42.587657Z"
    },
    "papermill": {
     "duration": 0.011374,
     "end_time": "2024-12-06T11:21:42.590019",
     "exception": false,
     "start_time": "2024-12-06T11:21:42.578645",
     "status": "completed"
    },
    "tags": []
   },
   "outputs": [],
   "source": [
    "def process_parquet_file(path: str) -> list:\n",
    "    df = pd.read_parquet(path)\n",
    "    df.drop(\"step\", axis=1, inplace=True)\n",
    "    res = df.describe().values.flatten().tolist()\n",
    "    id = path.split(\"=\")[-1].split(\"\\\\\")[0]\n",
    "    res.append(id)\n",
    "\n",
    "    return res"
   ]
  },
  {
   "cell_type": "code",
   "execution_count": 6,
   "id": "9b511a9a",
   "metadata": {
    "execution": {
     "iopub.execute_input": "2024-12-06T11:21:42.600186Z",
     "iopub.status.busy": "2024-12-06T11:21:42.599950Z",
     "iopub.status.idle": "2024-12-06T11:21:42.604390Z",
     "shell.execute_reply": "2024-12-06T11:21:42.603677Z"
    },
    "papermill": {
     "duration": 0.011437,
     "end_time": "2024-12-06T11:21:42.605967",
     "exception": false,
     "start_time": "2024-12-06T11:21:42.594530",
     "status": "completed"
    },
    "tags": []
   },
   "outputs": [],
   "source": [
    "def load_parquet_files(dir: str) -> pd.DataFrame:\n",
    "    all_ids = os.listdir(dir)\n",
    "    all_parquet_files = [os.path.join(dir, id, \"part-0.parquet\") for id in all_ids]\n",
    "\n",
    "    with ThreadPoolExecutor(max_workers=4) as excuter:\n",
    "        results = list(\n",
    "            tqdm(\n",
    "                excuter.map(process_parquet_file, all_parquet_files), total=len(all_ids)\n",
    "            )\n",
    "        )\n",
    "\n",
    "    return results"
   ]
  },
  {
   "cell_type": "code",
   "execution_count": 7,
   "id": "5b02f83e",
   "metadata": {
    "execution": {
     "iopub.execute_input": "2024-12-06T11:21:42.616089Z",
     "iopub.status.busy": "2024-12-06T11:21:42.615835Z",
     "iopub.status.idle": "2024-12-06T11:21:42.620049Z",
     "shell.execute_reply": "2024-12-06T11:21:42.619317Z"
    },
    "papermill": {
     "duration": 0.010969,
     "end_time": "2024-12-06T11:21:42.621614",
     "exception": false,
     "start_time": "2024-12-06T11:21:42.610645",
     "status": "completed"
    },
    "tags": []
   },
   "outputs": [],
   "source": [
    "def create_df_parquet(dir: str) -> pd.DataFrame:\n",
    "    time_series_data = load_parquet_files(dir)\n",
    "    df = pd.DataFrame(\n",
    "        data=time_series_data,\n",
    "        columns=[\"Stat_\" + str(i) for i in range(len(time_series_data[0]))],\n",
    "    )\n",
    "\n",
    "    df.rename(columns={df.columns[-1]: \"id\"}, inplace=True)\n",
    "\n",
    "    return df"
   ]
  },
  {
   "cell_type": "code",
   "execution_count": 8,
   "id": "42c67d09",
   "metadata": {
    "execution": {
     "iopub.execute_input": "2024-12-06T11:21:42.631764Z",
     "iopub.status.busy": "2024-12-06T11:21:42.631239Z",
     "iopub.status.idle": "2024-12-06T11:22:52.456750Z",
     "shell.execute_reply": "2024-12-06T11:22:52.456111Z"
    },
    "papermill": {
     "duration": 69.832382,
     "end_time": "2024-12-06T11:22:52.458508",
     "exception": false,
     "start_time": "2024-12-06T11:21:42.626126",
     "status": "completed"
    },
    "tags": []
   },
   "outputs": [
    {
     "name": "stderr",
     "output_type": "stream",
     "text": [
      "100%|██████████| 996/996 [01:09<00:00, 14.31it/s]\n",
      "100%|██████████| 2/2 [00:00<00:00, 10.08it/s]\n"
     ]
    }
   ],
   "source": [
    "df_train_parquet = create_df_parquet(PARQUET_TRAIN_PATH)\n",
    "\n",
    "df_test_parquet = create_df_parquet(PARQUET_TEST_PATH)"
   ]
  },
  {
   "cell_type": "code",
   "execution_count": 9,
   "id": "f2652c35",
   "metadata": {
    "execution": {
     "iopub.execute_input": "2024-12-06T11:22:52.501148Z",
     "iopub.status.busy": "2024-12-06T11:22:52.500580Z",
     "iopub.status.idle": "2024-12-06T11:22:52.560768Z",
     "shell.execute_reply": "2024-12-06T11:22:52.560124Z"
    },
    "papermill": {
     "duration": 0.083295,
     "end_time": "2024-12-06T11:22:52.562615",
     "exception": false,
     "start_time": "2024-12-06T11:22:52.479320",
     "status": "completed"
    },
    "tags": []
   },
   "outputs": [],
   "source": [
    "df_train_csv = pd.read_csv(CSV_TRAIN_PATH)\n",
    "\n",
    "df_test_csv = pd.read_csv(CSV_TEST_PATH)"
   ]
  },
  {
   "cell_type": "code",
   "execution_count": 10,
   "id": "ae7edf3f",
   "metadata": {
    "execution": {
     "iopub.execute_input": "2024-12-06T11:22:52.605228Z",
     "iopub.status.busy": "2024-12-06T11:22:52.604910Z",
     "iopub.status.idle": "2024-12-06T11:22:52.625176Z",
     "shell.execute_reply": "2024-12-06T11:22:52.624531Z"
    },
    "papermill": {
     "duration": 0.043101,
     "end_time": "2024-12-06T11:22:52.626710",
     "exception": false,
     "start_time": "2024-12-06T11:22:52.583609",
     "status": "completed"
    },
    "tags": []
   },
   "outputs": [],
   "source": [
    "df_train = pd.merge(df_train_csv, df_train_parquet, how=\"left\", on=\"id\")\n",
    "df_test = pd.merge(df_test_csv, df_test_parquet, how=\"left\", on=\"id\")"
   ]
  },
  {
   "cell_type": "code",
   "execution_count": 11,
   "id": "c3a6f9a1",
   "metadata": {
    "execution": {
     "iopub.execute_input": "2024-12-06T11:22:52.667578Z",
     "iopub.status.busy": "2024-12-06T11:22:52.667338Z",
     "iopub.status.idle": "2024-12-06T11:22:52.671106Z",
     "shell.execute_reply": "2024-12-06T11:22:52.670257Z"
    },
    "papermill": {
     "duration": 0.026149,
     "end_time": "2024-12-06T11:22:52.672700",
     "exception": false,
     "start_time": "2024-12-06T11:22:52.646551",
     "status": "completed"
    },
    "tags": []
   },
   "outputs": [],
   "source": [
    "test_id = df_test[\"id\"]"
   ]
  },
  {
   "cell_type": "code",
   "execution_count": 12,
   "id": "489916ca",
   "metadata": {
    "execution": {
     "iopub.execute_input": "2024-12-06T11:22:52.713472Z",
     "iopub.status.busy": "2024-12-06T11:22:52.713210Z",
     "iopub.status.idle": "2024-12-06T11:22:52.720237Z",
     "shell.execute_reply": "2024-12-06T11:22:52.719351Z"
    },
    "papermill": {
     "duration": 0.029203,
     "end_time": "2024-12-06T11:22:52.721955",
     "exception": false,
     "start_time": "2024-12-06T11:22:52.692752",
     "status": "completed"
    },
    "tags": []
   },
   "outputs": [],
   "source": [
    "df_train.drop(\"id\", axis=1, inplace=True)\n",
    "df_test.drop(\"id\", axis=1, inplace=True)"
   ]
  },
  {
   "cell_type": "code",
   "execution_count": 13,
   "id": "6de605c6",
   "metadata": {
    "execution": {
     "iopub.execute_input": "2024-12-06T11:22:52.763046Z",
     "iopub.status.busy": "2024-12-06T11:22:52.762784Z",
     "iopub.status.idle": "2024-12-06T11:22:52.772257Z",
     "shell.execute_reply": "2024-12-06T11:22:52.771644Z"
    },
    "papermill": {
     "duration": 0.031809,
     "end_time": "2024-12-06T11:22:52.773831",
     "exception": false,
     "start_time": "2024-12-06T11:22:52.742022",
     "status": "completed"
    },
    "tags": []
   },
   "outputs": [],
   "source": [
    "df_train = df_train[[col for col in df_train.columns if \"PCIAT\" not in col]]\n",
    "df_train = df_train[[col for col in df_train if col != \"sii\"] + [\"sii\"]]\n",
    "df_train.dropna(subset=\"sii\", inplace=True)"
   ]
  },
  {
   "cell_type": "code",
   "execution_count": 14,
   "id": "0573ac9f",
   "metadata": {
    "execution": {
     "iopub.execute_input": "2024-12-06T11:22:52.814507Z",
     "iopub.status.busy": "2024-12-06T11:22:52.814282Z",
     "iopub.status.idle": "2024-12-06T11:22:52.820386Z",
     "shell.execute_reply": "2024-12-06T11:22:52.819749Z"
    },
    "papermill": {
     "duration": 0.028236,
     "end_time": "2024-12-06T11:22:52.821877",
     "exception": false,
     "start_time": "2024-12-06T11:22:52.793641",
     "status": "completed"
    },
    "tags": []
   },
   "outputs": [],
   "source": [
    "categorical_columns = df_data_dictionary[\n",
    "    df_data_dictionary[\"Type\"].str.contains(\"categorical\", case=False)\n",
    "][\"Field\"].tolist()\n",
    "\n",
    "season_columns = df_data_dictionary[\n",
    "    df_data_dictionary[\"Type\"].str.contains(\"str\", case=False)\n",
    "][\"Field\"].tolist()\n",
    "\n",
    "categorical_columns = [i for i in categorical_columns if \"PCIAT\" not in i]\n",
    "season_columns = [i for i in season_columns if \"PCIAT\" not in i][1:]"
   ]
  },
  {
   "cell_type": "code",
   "execution_count": 15,
   "id": "433638e6",
   "metadata": {
    "execution": {
     "iopub.execute_input": "2024-12-06T11:22:52.863419Z",
     "iopub.status.busy": "2024-12-06T11:22:52.863196Z",
     "iopub.status.idle": "2024-12-06T11:22:52.866663Z",
     "shell.execute_reply": "2024-12-06T11:22:52.865966Z"
    },
    "papermill": {
     "duration": 0.025679,
     "end_time": "2024-12-06T11:22:52.868259",
     "exception": false,
     "start_time": "2024-12-06T11:22:52.842580",
     "status": "completed"
    },
    "tags": []
   },
   "outputs": [],
   "source": [
    "mapping_season = {\"Summer\": 0, \"Winter\": 1, \"Spring\": 2, \"Fall\": 3, \"Missing\": 4}"
   ]
  },
  {
   "cell_type": "code",
   "execution_count": 16,
   "id": "dff11984",
   "metadata": {
    "execution": {
     "iopub.execute_input": "2024-12-06T11:22:52.908741Z",
     "iopub.status.busy": "2024-12-06T11:22:52.908521Z",
     "iopub.status.idle": "2024-12-06T11:22:52.912428Z",
     "shell.execute_reply": "2024-12-06T11:22:52.911741Z"
    },
    "papermill": {
     "duration": 0.02592,
     "end_time": "2024-12-06T11:22:52.914003",
     "exception": false,
     "start_time": "2024-12-06T11:22:52.888083",
     "status": "completed"
    },
    "tags": []
   },
   "outputs": [],
   "source": [
    "def fill_missing_seasons(df: pd.DataFrame) -> pd.DataFrame:\n",
    "\n",
    "    for col in season_columns:\n",
    "        df[col] = df[col].fillna(\"Missing\")\n",
    "        df[col] = df[col].map(mapping_season).astype(int)\n",
    "\n",
    "    return df"
   ]
  },
  {
   "cell_type": "code",
   "execution_count": 17,
   "id": "9cc1ff02",
   "metadata": {
    "execution": {
     "iopub.execute_input": "2024-12-06T11:22:52.954549Z",
     "iopub.status.busy": "2024-12-06T11:22:52.954328Z",
     "iopub.status.idle": "2024-12-06T11:22:52.977093Z",
     "shell.execute_reply": "2024-12-06T11:22:52.976499Z"
    },
    "papermill": {
     "duration": 0.044557,
     "end_time": "2024-12-06T11:22:52.978550",
     "exception": false,
     "start_time": "2024-12-06T11:22:52.933993",
     "status": "completed"
    },
    "tags": []
   },
   "outputs": [],
   "source": [
    "df_train = fill_missing_seasons(df_train)\n",
    "df_test = fill_missing_seasons(df_test)"
   ]
  },
  {
   "cell_type": "code",
   "execution_count": 18,
   "id": "e081194c",
   "metadata": {
    "execution": {
     "iopub.execute_input": "2024-12-06T11:22:53.019280Z",
     "iopub.status.busy": "2024-12-06T11:22:53.018998Z",
     "iopub.status.idle": "2024-12-06T11:22:53.022230Z",
     "shell.execute_reply": "2024-12-06T11:22:53.021491Z"
    },
    "papermill": {
     "duration": 0.025437,
     "end_time": "2024-12-06T11:22:53.023714",
     "exception": false,
     "start_time": "2024-12-06T11:22:52.998277",
     "status": "completed"
    },
    "tags": []
   },
   "outputs": [],
   "source": [
    "# columns_to_encode = season_columns + categorical_columns"
   ]
  },
  {
   "cell_type": "code",
   "execution_count": 19,
   "id": "2979252a",
   "metadata": {
    "execution": {
     "iopub.execute_input": "2024-12-06T11:22:53.064637Z",
     "iopub.status.busy": "2024-12-06T11:22:53.064384Z",
     "iopub.status.idle": "2024-12-06T11:22:53.067729Z",
     "shell.execute_reply": "2024-12-06T11:22:53.066999Z"
    },
    "papermill": {
     "duration": 0.025556,
     "end_time": "2024-12-06T11:22:53.069180",
     "exception": false,
     "start_time": "2024-12-06T11:22:53.043624",
     "status": "completed"
    },
    "tags": []
   },
   "outputs": [],
   "source": [
    "# def onehot_encoding(df: pd.DataFrame) -> pd.DataFrame:\n",
    "#     for col in columns_to_encode:\n",
    "#         df_encoded = pd.get_dummies(df[col], prefix=col).astype(int)\n",
    "#         df = pd.concat([df.drop(col, axis=1), df_encoded], axis=1)\n",
    "\n",
    "#     return df"
   ]
  },
  {
   "cell_type": "code",
   "execution_count": 20,
   "id": "5ba48ec1",
   "metadata": {
    "execution": {
     "iopub.execute_input": "2024-12-06T11:22:53.109689Z",
     "iopub.status.busy": "2024-12-06T11:22:53.109445Z",
     "iopub.status.idle": "2024-12-06T11:22:53.112475Z",
     "shell.execute_reply": "2024-12-06T11:22:53.111793Z"
    },
    "papermill": {
     "duration": 0.024955,
     "end_time": "2024-12-06T11:22:53.113973",
     "exception": false,
     "start_time": "2024-12-06T11:22:53.089018",
     "status": "completed"
    },
    "tags": []
   },
   "outputs": [],
   "source": [
    "# df_train = onehot_encoding(df_train)\n",
    "# df_test = onehot_encoding(df_test)"
   ]
  },
  {
   "cell_type": "code",
   "execution_count": 21,
   "id": "34bf95e8",
   "metadata": {
    "execution": {
     "iopub.execute_input": "2024-12-06T11:22:53.156679Z",
     "iopub.status.busy": "2024-12-06T11:22:53.156431Z",
     "iopub.status.idle": "2024-12-06T11:22:53.159644Z",
     "shell.execute_reply": "2024-12-06T11:22:53.158899Z"
    },
    "papermill": {
     "duration": 0.02544,
     "end_time": "2024-12-06T11:22:53.161175",
     "exception": false,
     "start_time": "2024-12-06T11:22:53.135735",
     "status": "completed"
    },
    "tags": []
   },
   "outputs": [],
   "source": [
    "# missing_columns = set(df_train.columns) - set(df_test.columns)\n",
    "\n",
    "# for col in missing_columns:\n",
    "#     df_test[col] = 0\n",
    "\n",
    "# df_test = df_test[df_train.columns]\n",
    "# df_test = df_test.drop(columns=\"sii\", axis=1)"
   ]
  },
  {
   "cell_type": "code",
   "execution_count": 22,
   "id": "6dbb26b8",
   "metadata": {
    "execution": {
     "iopub.execute_input": "2024-12-06T11:22:53.202340Z",
     "iopub.status.busy": "2024-12-06T11:22:53.202092Z",
     "iopub.status.idle": "2024-12-06T11:22:53.205164Z",
     "shell.execute_reply": "2024-12-06T11:22:53.204427Z"
    },
    "papermill": {
     "duration": 0.025708,
     "end_time": "2024-12-06T11:22:53.206863",
     "exception": false,
     "start_time": "2024-12-06T11:22:53.181155",
     "status": "completed"
    },
    "tags": []
   },
   "outputs": [],
   "source": [
    "# print(df_train.shape)\n",
    "# print(df_test.shape)"
   ]
  },
  {
   "cell_type": "code",
   "execution_count": 23,
   "id": "00c53033",
   "metadata": {
    "execution": {
     "iopub.execute_input": "2024-12-06T11:22:53.249540Z",
     "iopub.status.busy": "2024-12-06T11:22:53.249292Z",
     "iopub.status.idle": "2024-12-06T11:22:56.110445Z",
     "shell.execute_reply": "2024-12-06T11:22:56.109742Z"
    },
    "papermill": {
     "duration": 2.885596,
     "end_time": "2024-12-06T11:22:56.112532",
     "exception": false,
     "start_time": "2024-12-06T11:22:53.226936",
     "status": "completed"
    },
    "tags": []
   },
   "outputs": [],
   "source": [
    "imputer = KNNImputer(n_neighbors=10, weights=\"distance\", keep_empty_features=True)\n",
    "\n",
    "imputed_train = imputer.fit_transform(df_train)\n",
    "imputed_test = imputer.fit_transform(df_test)\n",
    "\n",
    "df_train = pd.DataFrame(imputed_train, columns=df_train.columns)\n",
    "df_test = pd.DataFrame(imputed_test, columns=df_test.columns)"
   ]
  },
  {
   "cell_type": "markdown",
   "id": "057c6ad4",
   "metadata": {
    "papermill": {
     "duration": 0.020855,
     "end_time": "2024-12-06T11:22:56.154145",
     "exception": false,
     "start_time": "2024-12-06T11:22:56.133290",
     "status": "completed"
    },
    "tags": []
   },
   "source": [
    "# Train model\n"
   ]
  },
  {
   "cell_type": "code",
   "execution_count": 24,
   "id": "52188a69",
   "metadata": {
    "execution": {
     "iopub.execute_input": "2024-12-06T11:22:56.196492Z",
     "iopub.status.busy": "2024-12-06T11:22:56.196214Z",
     "iopub.status.idle": "2024-12-06T11:23:03.057706Z",
     "shell.execute_reply": "2024-12-06T11:23:03.056796Z"
    },
    "papermill": {
     "duration": 6.884722,
     "end_time": "2024-12-06T11:23:03.059446",
     "exception": false,
     "start_time": "2024-12-06T11:22:56.174724",
     "status": "completed"
    },
    "tags": []
   },
   "outputs": [
    {
     "data": {
      "text/html": [
       "<style>#sk-container-id-1 {color: black;background-color: white;}#sk-container-id-1 pre{padding: 0;}#sk-container-id-1 div.sk-toggleable {background-color: white;}#sk-container-id-1 label.sk-toggleable__label {cursor: pointer;display: block;width: 100%;margin-bottom: 0;padding: 0.3em;box-sizing: border-box;text-align: center;}#sk-container-id-1 label.sk-toggleable__label-arrow:before {content: \"▸\";float: left;margin-right: 0.25em;color: #696969;}#sk-container-id-1 label.sk-toggleable__label-arrow:hover:before {color: black;}#sk-container-id-1 div.sk-estimator:hover label.sk-toggleable__label-arrow:before {color: black;}#sk-container-id-1 div.sk-toggleable__content {max-height: 0;max-width: 0;overflow: hidden;text-align: left;background-color: #f0f8ff;}#sk-container-id-1 div.sk-toggleable__content pre {margin: 0.2em;color: black;border-radius: 0.25em;background-color: #f0f8ff;}#sk-container-id-1 input.sk-toggleable__control:checked~div.sk-toggleable__content {max-height: 200px;max-width: 100%;overflow: auto;}#sk-container-id-1 input.sk-toggleable__control:checked~label.sk-toggleable__label-arrow:before {content: \"▾\";}#sk-container-id-1 div.sk-estimator input.sk-toggleable__control:checked~label.sk-toggleable__label {background-color: #d4ebff;}#sk-container-id-1 div.sk-label input.sk-toggleable__control:checked~label.sk-toggleable__label {background-color: #d4ebff;}#sk-container-id-1 input.sk-hidden--visually {border: 0;clip: rect(1px 1px 1px 1px);clip: rect(1px, 1px, 1px, 1px);height: 1px;margin: -1px;overflow: hidden;padding: 0;position: absolute;width: 1px;}#sk-container-id-1 div.sk-estimator {font-family: monospace;background-color: #f0f8ff;border: 1px dotted black;border-radius: 0.25em;box-sizing: border-box;margin-bottom: 0.5em;}#sk-container-id-1 div.sk-estimator:hover {background-color: #d4ebff;}#sk-container-id-1 div.sk-parallel-item::after {content: \"\";width: 100%;border-bottom: 1px solid gray;flex-grow: 1;}#sk-container-id-1 div.sk-label:hover label.sk-toggleable__label {background-color: #d4ebff;}#sk-container-id-1 div.sk-serial::before {content: \"\";position: absolute;border-left: 1px solid gray;box-sizing: border-box;top: 0;bottom: 0;left: 50%;z-index: 0;}#sk-container-id-1 div.sk-serial {display: flex;flex-direction: column;align-items: center;background-color: white;padding-right: 0.2em;padding-left: 0.2em;position: relative;}#sk-container-id-1 div.sk-item {position: relative;z-index: 1;}#sk-container-id-1 div.sk-parallel {display: flex;align-items: stretch;justify-content: center;background-color: white;position: relative;}#sk-container-id-1 div.sk-item::before, #sk-container-id-1 div.sk-parallel-item::before {content: \"\";position: absolute;border-left: 1px solid gray;box-sizing: border-box;top: 0;bottom: 0;left: 50%;z-index: -1;}#sk-container-id-1 div.sk-parallel-item {display: flex;flex-direction: column;z-index: 1;position: relative;background-color: white;}#sk-container-id-1 div.sk-parallel-item:first-child::after {align-self: flex-end;width: 50%;}#sk-container-id-1 div.sk-parallel-item:last-child::after {align-self: flex-start;width: 50%;}#sk-container-id-1 div.sk-parallel-item:only-child::after {width: 0;}#sk-container-id-1 div.sk-dashed-wrapped {border: 1px dashed gray;margin: 0 0.4em 0.5em 0.4em;box-sizing: border-box;padding-bottom: 0.4em;background-color: white;}#sk-container-id-1 div.sk-label label {font-family: monospace;font-weight: bold;display: inline-block;line-height: 1.2em;}#sk-container-id-1 div.sk-label-container {text-align: center;}#sk-container-id-1 div.sk-container {/* jupyter's `normalize.less` sets `[hidden] { display: none; }` but bootstrap.min.css set `[hidden] { display: none !important; }` so we also need the `!important` here to be able to override the default hidden behavior on the sphinx rendered scikit-learn.org. See: https://github.com/scikit-learn/scikit-learn/issues/21755 */display: inline-block !important;position: relative;}#sk-container-id-1 div.sk-text-repr-fallback {display: none;}</style><div id=\"sk-container-id-1\" class=\"sk-top-container\"><div class=\"sk-text-repr-fallback\"><pre>RandomForestRegressor(random_state=42)</pre><b>In a Jupyter environment, please rerun this cell to show the HTML representation or trust the notebook. <br />On GitHub, the HTML representation is unable to render, please try loading this page with nbviewer.org.</b></div><div class=\"sk-container\" hidden><div class=\"sk-item\"><div class=\"sk-estimator sk-toggleable\"><input class=\"sk-toggleable__control sk-hidden--visually\" id=\"sk-estimator-id-1\" type=\"checkbox\" checked><label for=\"sk-estimator-id-1\" class=\"sk-toggleable__label sk-toggleable__label-arrow\">RandomForestRegressor</label><div class=\"sk-toggleable__content\"><pre>RandomForestRegressor(random_state=42)</pre></div></div></div></div></div>"
      ],
      "text/plain": [
       "RandomForestRegressor(random_state=42)"
      ]
     },
     "execution_count": 24,
     "metadata": {},
     "output_type": "execute_result"
    }
   ],
   "source": [
    "x = df_train.drop(columns=[\"sii\"], axis=1)\n",
    "y = df_train[\"sii\"]\n",
    "\n",
    "model = RandomForestRegressor(\n",
    "    n_estimators=100,\n",
    "    random_state=42\n",
    ")\n",
    "\n",
    "model.fit(x, y)"
   ]
  },
  {
   "cell_type": "code",
   "execution_count": 25,
   "id": "b9b6fed8",
   "metadata": {
    "execution": {
     "iopub.execute_input": "2024-12-06T11:23:03.101442Z",
     "iopub.status.busy": "2024-12-06T11:23:03.101180Z",
     "iopub.status.idle": "2024-12-06T11:23:03.104734Z",
     "shell.execute_reply": "2024-12-06T11:23:03.103913Z"
    },
    "papermill": {
     "duration": 0.025999,
     "end_time": "2024-12-06T11:23:03.106292",
     "exception": false,
     "start_time": "2024-12-06T11:23:03.080293",
     "status": "completed"
    },
    "tags": []
   },
   "outputs": [],
   "source": [
    "# for i in range(20):\n",
    "#     x_train, x_test, y_train, y_test = train_test_split(\n",
    "#         x, y, test_size=0.1, random_state=i, shuffle=True\n",
    "#     )\n",
    "#     model.fit(x_train, y_train)"
   ]
  },
  {
   "cell_type": "code",
   "execution_count": 26,
   "id": "50990ff0",
   "metadata": {
    "execution": {
     "iopub.execute_input": "2024-12-06T11:23:03.185858Z",
     "iopub.status.busy": "2024-12-06T11:23:03.185546Z",
     "iopub.status.idle": "2024-12-06T11:23:03.196772Z",
     "shell.execute_reply": "2024-12-06T11:23:03.195960Z"
    },
    "papermill": {
     "duration": 0.072112,
     "end_time": "2024-12-06T11:23:03.198479",
     "exception": false,
     "start_time": "2024-12-06T11:23:03.126367",
     "status": "completed"
    },
    "tags": []
   },
   "outputs": [],
   "source": [
    "y_pred = model.predict(df_test)\n",
    "rounded_pred = np.round(y_pred).astype(int)"
   ]
  },
  {
   "cell_type": "markdown",
   "id": "86df1a7e",
   "metadata": {
    "papermill": {
     "duration": 0.019956,
     "end_time": "2024-12-06T11:23:03.238856",
     "exception": false,
     "start_time": "2024-12-06T11:23:03.218900",
     "status": "completed"
    },
    "tags": []
   },
   "source": [
    "# Submission\n"
   ]
  },
  {
   "cell_type": "code",
   "execution_count": 27,
   "id": "cf87da86",
   "metadata": {
    "execution": {
     "iopub.execute_input": "2024-12-06T11:23:03.281707Z",
     "iopub.status.busy": "2024-12-06T11:23:03.281450Z",
     "iopub.status.idle": "2024-12-06T11:23:03.285635Z",
     "shell.execute_reply": "2024-12-06T11:23:03.284812Z"
    },
    "papermill": {
     "duration": 0.026978,
     "end_time": "2024-12-06T11:23:03.287171",
     "exception": false,
     "start_time": "2024-12-06T11:23:03.260193",
     "status": "completed"
    },
    "tags": []
   },
   "outputs": [],
   "source": [
    "submission = pd.DataFrame({\"id\": test_id, \"sii\": rounded_pred})"
   ]
  },
  {
   "cell_type": "code",
   "execution_count": 28,
   "id": "43909265",
   "metadata": {
    "execution": {
     "iopub.execute_input": "2024-12-06T11:23:03.330052Z",
     "iopub.status.busy": "2024-12-06T11:23:03.329593Z",
     "iopub.status.idle": "2024-12-06T11:23:03.335419Z",
     "shell.execute_reply": "2024-12-06T11:23:03.334793Z"
    },
    "papermill": {
     "duration": 0.029647,
     "end_time": "2024-12-06T11:23:03.336991",
     "exception": false,
     "start_time": "2024-12-06T11:23:03.307344",
     "status": "completed"
    },
    "tags": []
   },
   "outputs": [],
   "source": [
    "submission.to_csv(\"submission.csv\", index=False)"
   ]
  }
 ],
 "metadata": {
  "kaggle": {
   "accelerator": "gpu",
   "dataSources": [
    {
     "databundleVersionId": 9643020,
     "sourceId": 81933,
     "sourceType": "competition"
    }
   ],
   "isGpuEnabled": true,
   "isInternetEnabled": false,
   "language": "python",
   "sourceType": "notebook"
  },
  "kernelspec": {
   "display_name": "Python 3",
   "language": "python",
   "name": "python3"
  },
  "language_info": {
   "codemirror_mode": {
    "name": "ipython",
    "version": 3
   },
   "file_extension": ".py",
   "mimetype": "text/x-python",
   "name": "python",
   "nbconvert_exporter": "python",
   "pygments_lexer": "ipython3",
   "version": "3.10.14"
  },
  "papermill": {
   "default_parameters": {},
   "duration": 86.016929,
   "end_time": "2024-12-06T11:23:03.775105",
   "environment_variables": {},
   "exception": null,
   "input_path": "__notebook__.ipynb",
   "output_path": "__notebook__.ipynb",
   "parameters": {},
   "start_time": "2024-12-06T11:21:37.758176",
   "version": "2.6.0"
  }
 },
 "nbformat": 4,
 "nbformat_minor": 5
}
