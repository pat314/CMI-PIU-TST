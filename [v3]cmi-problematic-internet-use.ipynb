{
 "cells": [
  {
   "cell_type": "code",
   "execution_count": 1,
   "id": "76b5b874",
   "metadata": {
    "execution": {
     "iopub.execute_input": "2024-12-03T15:13:34.422729Z",
     "iopub.status.busy": "2024-12-03T15:13:34.421965Z",
     "iopub.status.idle": "2024-12-03T15:13:34.426214Z",
     "shell.execute_reply": "2024-12-03T15:13:34.425569Z"
    },
    "papermill": {
     "duration": 0.012273,
     "end_time": "2024-12-03T15:13:34.427715",
     "exception": false,
     "start_time": "2024-12-03T15:13:34.415442",
     "status": "completed"
    },
    "tags": []
   },
   "outputs": [],
   "source": [
    "# !pip install pandas\n",
    "\n",
    "# !pip install numpy\n",
    "\n",
    "# !pip install scikit-learn\n",
    "\n",
    "# !pip install tqdm"
   ]
  },
  {
   "cell_type": "code",
   "execution_count": 2,
   "id": "18ede68c",
   "metadata": {
    "execution": {
     "iopub.execute_input": "2024-12-03T15:13:34.438703Z",
     "iopub.status.busy": "2024-12-03T15:13:34.438430Z",
     "iopub.status.idle": "2024-12-03T15:13:36.465084Z",
     "shell.execute_reply": "2024-12-03T15:13:36.464202Z"
    },
    "papermill": {
     "duration": 2.03483,
     "end_time": "2024-12-03T15:13:36.467127",
     "exception": false,
     "start_time": "2024-12-03T15:13:34.432297",
     "status": "completed"
    },
    "tags": []
   },
   "outputs": [],
   "source": [
    "import pandas as pd\n",
    "\n",
    "import numpy as np\n",
    "\n",
    "import os\n",
    "\n",
    "from concurrent.futures import ThreadPoolExecutor\n",
    "\n",
    "from tqdm import tqdm\n",
    "\n",
    "\n",
    "\n",
    "from sklearn.ensemble import RandomForestRegressor"
   ]
  },
  {
   "cell_type": "markdown",
   "id": "6cebb6a8",
   "metadata": {
    "papermill": {
     "duration": 0.004128,
     "end_time": "2024-12-03T15:13:36.475882",
     "exception": false,
     "start_time": "2024-12-03T15:13:36.471754",
     "status": "completed"
    },
    "tags": []
   },
   "source": [
    "# Preprocessing data\n"
   ]
  },
  {
   "cell_type": "code",
   "execution_count": 3,
   "id": "50ea579d",
   "metadata": {
    "execution": {
     "iopub.execute_input": "2024-12-03T15:13:36.486137Z",
     "iopub.status.busy": "2024-12-03T15:13:36.485320Z",
     "iopub.status.idle": "2024-12-03T15:13:36.498311Z",
     "shell.execute_reply": "2024-12-03T15:13:36.497714Z"
    },
    "papermill": {
     "duration": 0.019779,
     "end_time": "2024-12-03T15:13:36.500043",
     "exception": false,
     "start_time": "2024-12-03T15:13:36.480264",
     "status": "completed"
    },
    "tags": []
   },
   "outputs": [],
   "source": [
    "df_data_dictionary = pd.read_csv(\n",
    "\n",
    "    \"/kaggle/input/child-mind-institute-problematic-internet-use/data_dictionary.csv\"\n",
    "\n",
    ")"
   ]
  },
  {
   "cell_type": "markdown",
   "id": "8b65dc3e",
   "metadata": {
    "papermill": {
     "duration": 0.004182,
     "end_time": "2024-12-03T15:13:36.508642",
     "exception": false,
     "start_time": "2024-12-03T15:13:36.504460",
     "status": "completed"
    },
    "tags": []
   },
   "source": [
    "## Load time series data\n"
   ]
  },
  {
   "cell_type": "code",
   "execution_count": 4,
   "id": "f2a302a0",
   "metadata": {
    "execution": {
     "iopub.execute_input": "2024-12-03T15:13:36.518837Z",
     "iopub.status.busy": "2024-12-03T15:13:36.518104Z",
     "iopub.status.idle": "2024-12-03T15:13:36.525064Z",
     "shell.execute_reply": "2024-12-03T15:13:36.524033Z"
    },
    "papermill": {
     "duration": 0.014206,
     "end_time": "2024-12-03T15:13:36.527214",
     "exception": false,
     "start_time": "2024-12-03T15:13:36.513008",
     "status": "completed"
    },
    "tags": []
   },
   "outputs": [],
   "source": [
    "def process_parquet_file(path: str) -> list:\n",
    "\n",
    "    \"\"\"\n",
    "\n",
    "    Process data in a parquet file of an id:\n",
    "\n",
    "        - Read parquet file.\n",
    "\n",
    "        - Drop column \"step\".\n",
    "\n",
    "        - Calculate statistics for all columns then flatten it. This is used as\n",
    "\n",
    "        additional features along with ones in train.csv.\n",
    "\n",
    "        - Extract ID from the path and append to the end of column list above.\n",
    "\n",
    "\n",
    "\n",
    "    Parameters:\n",
    "\n",
    "        path (str): path to the parquet file.\n",
    "\n",
    "\n",
    "\n",
    "    Returns:\n",
    "\n",
    "        A list contains statistical columns as additional features and ID at the end.\n",
    "\n",
    "    \"\"\"\n",
    "\n",
    "\n",
    "\n",
    "    df = pd.read_parquet(path)\n",
    "    df[df.columns.tolist()]\n",
    "\n",
    "    df.drop(\"step\", axis=1, inplace=True)\n",
    "\n",
    "    res = df.describe().values.flatten().tolist()\n",
    "\n",
    "    id = path.split(\"=\")[-1].split(\"/\")[0]\n",
    "\n",
    "    res.append(id)\n",
    "\n",
    "\n",
    "\n",
    "    return res"
   ]
  },
  {
   "cell_type": "code",
   "execution_count": 5,
   "id": "fe4a7d08",
   "metadata": {
    "execution": {
     "iopub.execute_input": "2024-12-03T15:13:36.537149Z",
     "iopub.status.busy": "2024-12-03T15:13:36.536486Z",
     "iopub.status.idle": "2024-12-03T15:13:36.541548Z",
     "shell.execute_reply": "2024-12-03T15:13:36.540819Z"
    },
    "papermill": {
     "duration": 0.011413,
     "end_time": "2024-12-03T15:13:36.543080",
     "exception": false,
     "start_time": "2024-12-03T15:13:36.531667",
     "status": "completed"
    },
    "tags": []
   },
   "outputs": [],
   "source": [
    "def load_parquet_files(dir: str) -> pd.DataFrame:\n",
    "\n",
    "    \"\"\"\n",
    "\n",
    "    Load all parquet file ands process each one in 4 threads.\n",
    "\n",
    "\n",
    "\n",
    "    Parameters:\n",
    "\n",
    "        dir (str): path the to the directory which contains parquet files.\n",
    "\n",
    "\n",
    "\n",
    "    Returns:\n",
    "\n",
    "        A list contains results of processed parquet files.\n",
    "\n",
    "    \"\"\"\n",
    "\n",
    "\n",
    "\n",
    "    all_ids = os.listdir(dir)\n",
    "\n",
    "    all_parquet_files = [os.path.join(dir, id, \"part-0.parquet\") for id in all_ids]\n",
    "\n",
    "\n",
    "\n",
    "    with ThreadPoolExecutor(max_workers=4) as excuter:\n",
    "\n",
    "        results = list(\n",
    "\n",
    "            tqdm(\n",
    "\n",
    "                excuter.map(process_parquet_file, all_parquet_files), total=len(all_ids)\n",
    "\n",
    "            )\n",
    "\n",
    "        )\n",
    "\n",
    "\n",
    "\n",
    "    return results"
   ]
  },
  {
   "cell_type": "code",
   "execution_count": 6,
   "id": "8ab0966d",
   "metadata": {
    "execution": {
     "iopub.execute_input": "2024-12-03T15:13:36.552709Z",
     "iopub.status.busy": "2024-12-03T15:13:36.552260Z",
     "iopub.status.idle": "2024-12-03T15:13:36.556922Z",
     "shell.execute_reply": "2024-12-03T15:13:36.556242Z"
    },
    "papermill": {
     "duration": 0.011166,
     "end_time": "2024-12-03T15:13:36.558500",
     "exception": false,
     "start_time": "2024-12-03T15:13:36.547334",
     "status": "completed"
    },
    "tags": []
   },
   "outputs": [],
   "source": [
    "def create_df_parquet(dir: str) -> pd.DataFrame:\n",
    "\n",
    "    \"\"\"\n",
    "\n",
    "    Create a Dataframe using restuls of processed parquet files.\n",
    "\n",
    "\n",
    "\n",
    "    Parameters:\n",
    "\n",
    "        dir (str): path the to the directory which contains parquet files.\n",
    "\n",
    "\n",
    "\n",
    "    Returns:\n",
    "\n",
    "        A Dataframe contains statistical time series data of all IDs.\n",
    "\n",
    "    \"\"\"\n",
    "\n",
    "\n",
    "\n",
    "    time_series_data = load_parquet_files(dir)\n",
    "\n",
    "    df = pd.DataFrame(\n",
    "\n",
    "        data=time_series_data,\n",
    "\n",
    "        columns=[\"Stat_\" + str(i) for i in range(len(time_series_data[0]))],\n",
    "\n",
    "    )\n",
    "\n",
    "\n",
    "\n",
    "    df.rename(columns={df.columns[-1]: \"id\"}, inplace=True)\n",
    "\n",
    "\n",
    "\n",
    "    return df"
   ]
  },
  {
   "cell_type": "code",
   "execution_count": 7,
   "id": "d6c0505d",
   "metadata": {
    "execution": {
     "iopub.execute_input": "2024-12-03T15:13:36.568220Z",
     "iopub.status.busy": "2024-12-03T15:13:36.567967Z",
     "iopub.status.idle": "2024-12-03T15:14:51.837819Z",
     "shell.execute_reply": "2024-12-03T15:14:51.836954Z"
    },
    "papermill": {
     "duration": 75.276349,
     "end_time": "2024-12-03T15:14:51.839535",
     "exception": false,
     "start_time": "2024-12-03T15:13:36.563186",
     "status": "completed"
    },
    "tags": []
   },
   "outputs": [
    {
     "name": "stderr",
     "output_type": "stream",
     "text": [
      "100%|██████████| 996/996 [01:15<00:00, 13.27it/s]\n",
      "100%|██████████| 2/2 [00:00<00:00, 10.87it/s]\n"
     ]
    }
   ],
   "source": [
    "df_train_parquet = create_df_parquet(\n",
    "\n",
    "    dir=\"/kaggle/input/child-mind-institute-problematic-internet-use/series_train.parquet\"\n",
    "\n",
    ")\n",
    "\n",
    "\n",
    "\n",
    "df_test_parquet = create_df_parquet(\n",
    "\n",
    "    dir=\"/kaggle/input/child-mind-institute-problematic-internet-use/series_test.parquet\"\n",
    "\n",
    ")"
   ]
  },
  {
   "cell_type": "markdown",
   "id": "40fe0b30",
   "metadata": {
    "papermill": {
     "duration": 0.020594,
     "end_time": "2024-12-03T15:14:51.881600",
     "exception": false,
     "start_time": "2024-12-03T15:14:51.861006",
     "status": "completed"
    },
    "tags": []
   },
   "source": [
    "## Load csv data\n"
   ]
  },
  {
   "cell_type": "code",
   "execution_count": 8,
   "id": "dace456d",
   "metadata": {
    "execution": {
     "iopub.execute_input": "2024-12-03T15:14:51.923648Z",
     "iopub.status.busy": "2024-12-03T15:14:51.923382Z",
     "iopub.status.idle": "2024-12-03T15:14:51.988237Z",
     "shell.execute_reply": "2024-12-03T15:14:51.987566Z"
    },
    "papermill": {
     "duration": 0.087844,
     "end_time": "2024-12-03T15:14:51.989967",
     "exception": false,
     "start_time": "2024-12-03T15:14:51.902123",
     "status": "completed"
    },
    "tags": []
   },
   "outputs": [],
   "source": [
    "df_train_csv = pd.read_csv(\n",
    "\n",
    "    \"/kaggle/input/child-mind-institute-problematic-internet-use/train.csv\"\n",
    "\n",
    ")\n",
    "\n",
    "\n",
    "\n",
    "df_test_csv = pd.read_csv(\n",
    "\n",
    "    \"/kaggle/input/child-mind-institute-problematic-internet-use/test.csv\"\n",
    "\n",
    ")"
   ]
  },
  {
   "cell_type": "markdown",
   "id": "6d174350",
   "metadata": {
    "papermill": {
     "duration": 0.020396,
     "end_time": "2024-12-03T15:14:52.031291",
     "exception": false,
     "start_time": "2024-12-03T15:14:52.010895",
     "status": "completed"
    },
    "tags": []
   },
   "source": [
    "## Merge time series and csv data\n"
   ]
  },
  {
   "cell_type": "code",
   "execution_count": 9,
   "id": "fe9797cc",
   "metadata": {
    "execution": {
     "iopub.execute_input": "2024-12-03T15:14:52.074785Z",
     "iopub.status.busy": "2024-12-03T15:14:52.074448Z",
     "iopub.status.idle": "2024-12-03T15:14:52.095092Z",
     "shell.execute_reply": "2024-12-03T15:14:52.094381Z"
    },
    "papermill": {
     "duration": 0.043739,
     "end_time": "2024-12-03T15:14:52.096864",
     "exception": false,
     "start_time": "2024-12-03T15:14:52.053125",
     "status": "completed"
    },
    "tags": []
   },
   "outputs": [],
   "source": [
    "df_train = pd.merge(df_train_csv, df_train_parquet, how=\"left\", on=\"id\")\n",
    "\n",
    "df_test = pd.merge(df_test_csv, df_test_parquet, how=\"left\", on=\"id\")"
   ]
  },
  {
   "cell_type": "code",
   "execution_count": 10,
   "id": "e263960d",
   "metadata": {
    "execution": {
     "iopub.execute_input": "2024-12-03T15:14:52.140217Z",
     "iopub.status.busy": "2024-12-03T15:14:52.139550Z",
     "iopub.status.idle": "2024-12-03T15:14:52.143379Z",
     "shell.execute_reply": "2024-12-03T15:14:52.142597Z"
    },
    "papermill": {
     "duration": 0.026673,
     "end_time": "2024-12-03T15:14:52.144984",
     "exception": false,
     "start_time": "2024-12-03T15:14:52.118311",
     "status": "completed"
    },
    "tags": []
   },
   "outputs": [],
   "source": [
    "test_id = df_test[\"id\"]"
   ]
  },
  {
   "cell_type": "code",
   "execution_count": 11,
   "id": "11e39ac1",
   "metadata": {
    "execution": {
     "iopub.execute_input": "2024-12-03T15:14:52.187133Z",
     "iopub.status.busy": "2024-12-03T15:14:52.186713Z",
     "iopub.status.idle": "2024-12-03T15:14:52.193771Z",
     "shell.execute_reply": "2024-12-03T15:14:52.193190Z"
    },
    "papermill": {
     "duration": 0.029865,
     "end_time": "2024-12-03T15:14:52.195368",
     "exception": false,
     "start_time": "2024-12-03T15:14:52.165503",
     "status": "completed"
    },
    "tags": []
   },
   "outputs": [],
   "source": [
    "df_train.drop(\"id\", axis=1, inplace=True)\n",
    "\n",
    "df_test.drop(\"id\", axis=1, inplace=True)"
   ]
  },
  {
   "cell_type": "markdown",
   "id": "4ab50645",
   "metadata": {
    "papermill": {
     "duration": 0.020125,
     "end_time": "2024-12-03T15:14:52.237623",
     "exception": false,
     "start_time": "2024-12-03T15:14:52.217498",
     "status": "completed"
    },
    "tags": []
   },
   "source": [
    "## Drop PCIAT columns\n"
   ]
  },
  {
   "cell_type": "code",
   "execution_count": 12,
   "id": "54deab9f",
   "metadata": {
    "execution": {
     "iopub.execute_input": "2024-12-03T15:14:52.278911Z",
     "iopub.status.busy": "2024-12-03T15:14:52.278687Z",
     "iopub.status.idle": "2024-12-03T15:14:52.289772Z",
     "shell.execute_reply": "2024-12-03T15:14:52.289208Z"
    },
    "papermill": {
     "duration": 0.03341,
     "end_time": "2024-12-03T15:14:52.291379",
     "exception": false,
     "start_time": "2024-12-03T15:14:52.257969",
     "status": "completed"
    },
    "tags": []
   },
   "outputs": [],
   "source": [
    "df_train = df_train[[col for col in df_train.columns if \"PCIAT\" not in col]]\n",
    "\n",
    "df_train = df_train[[col for col in df_train if col != \"sii\"] + [\"sii\"]]\n",
    "\n",
    "df_train.dropna(subset=\"sii\", inplace=True)"
   ]
  },
  {
   "cell_type": "markdown",
   "id": "f631fcb0",
   "metadata": {
    "papermill": {
     "duration": 0.019968,
     "end_time": "2024-12-03T15:14:52.332313",
     "exception": false,
     "start_time": "2024-12-03T15:14:52.312345",
     "status": "completed"
    },
    "tags": []
   },
   "source": [
    "## Mapping string data to numeric\n"
   ]
  },
  {
   "cell_type": "code",
   "execution_count": 13,
   "id": "22c80116",
   "metadata": {
    "execution": {
     "iopub.execute_input": "2024-12-03T15:14:52.374456Z",
     "iopub.status.busy": "2024-12-03T15:14:52.374199Z",
     "iopub.status.idle": "2024-12-03T15:14:52.378574Z",
     "shell.execute_reply": "2024-12-03T15:14:52.377904Z"
    },
    "papermill": {
     "duration": 0.027567,
     "end_time": "2024-12-03T15:14:52.380089",
     "exception": false,
     "start_time": "2024-12-03T15:14:52.352522",
     "status": "completed"
    },
    "tags": []
   },
   "outputs": [],
   "source": [
    "season_columns = [\n",
    "\n",
    "    \"Basic_Demos-Enroll_Season\",\n",
    "\n",
    "    \"CGAS-Season\",\n",
    "\n",
    "    \"Physical-Season\",\n",
    "\n",
    "    \"Fitness_Endurance-Season\",\n",
    "\n",
    "    \"FGC-Season\",\n",
    "\n",
    "    \"BIA-Season\",\n",
    "\n",
    "    \"PAQ_A-Season\",\n",
    "\n",
    "    \"PAQ_C-Season\",\n",
    "\n",
    "    \"SDS-Season\",\n",
    "\n",
    "    \"PreInt_EduHx-Season\",\n",
    "\n",
    "]\n",
    "\n",
    "\n",
    "\n",
    "season_mapping = {\"Summer\": 0, \"Winter\": 1, \"Spring\": 2, \"Fall\": 3, \"Missing\": 4}"
   ]
  },
  {
   "cell_type": "code",
   "execution_count": 14,
   "id": "30ae600b",
   "metadata": {
    "execution": {
     "iopub.execute_input": "2024-12-03T15:14:52.426303Z",
     "iopub.status.busy": "2024-12-03T15:14:52.425438Z",
     "iopub.status.idle": "2024-12-03T15:14:52.430515Z",
     "shell.execute_reply": "2024-12-03T15:14:52.429810Z"
    },
    "papermill": {
     "duration": 0.030285,
     "end_time": "2024-12-03T15:14:52.432262",
     "exception": false,
     "start_time": "2024-12-03T15:14:52.401977",
     "status": "completed"
    },
    "tags": []
   },
   "outputs": [],
   "source": [
    "def season_to_numeric(df: pd.DataFrame) -> pd.DataFrame:\n",
    "\n",
    "    \"\"\"\n",
    "\n",
    "    Fill in missing data of season-related columns and convert\n",
    "\n",
    "    to numeric category.\n",
    "\n",
    "\n",
    "\n",
    "    Parameters:\n",
    "\n",
    "        df (pandas.Dataframe): a Dataframe to be processed.\n",
    "\n",
    "\n",
    "\n",
    "    Returns:\n",
    "\n",
    "        A processed Dataframe (just filling and mapping season-related columns).\n",
    "\n",
    "    \"\"\"\n",
    "\n",
    "\n",
    "\n",
    "    for col in season_columns:\n",
    "\n",
    "        df[col] = df[col].fillna(\"Missing\")\n",
    "\n",
    "        df[col] = df[col].map(season_mapping)\n",
    "\n",
    "        df[col] = df[col].astype(int)\n",
    "\n",
    "\n",
    "\n",
    "    return df"
   ]
  },
  {
   "cell_type": "code",
   "execution_count": 15,
   "id": "6720d5f0",
   "metadata": {
    "execution": {
     "iopub.execute_input": "2024-12-03T15:14:52.477526Z",
     "iopub.status.busy": "2024-12-03T15:14:52.477225Z",
     "iopub.status.idle": "2024-12-03T15:14:52.506325Z",
     "shell.execute_reply": "2024-12-03T15:14:52.505679Z"
    },
    "papermill": {
     "duration": 0.05323,
     "end_time": "2024-12-03T15:14:52.507804",
     "exception": false,
     "start_time": "2024-12-03T15:14:52.454574",
     "status": "completed"
    },
    "tags": []
   },
   "outputs": [],
   "source": [
    "df_train = season_to_numeric(df_train)\n",
    "\n",
    "df_test = season_to_numeric(df_test)"
   ]
  },
  {
   "cell_type": "markdown",
   "id": "4d0b1a95",
   "metadata": {
    "papermill": {
     "duration": 0.022517,
     "end_time": "2024-12-03T15:14:52.551407",
     "exception": false,
     "start_time": "2024-12-03T15:14:52.528890",
     "status": "completed"
    },
    "tags": []
   },
   "source": [
    "## Fill in missing cells using mean\n"
   ]
  },
  {
   "cell_type": "code",
   "execution_count": 16,
   "id": "ff97dfe7",
   "metadata": {
    "execution": {
     "iopub.execute_input": "2024-12-03T15:14:52.596205Z",
     "iopub.status.busy": "2024-12-03T15:14:52.595466Z",
     "iopub.status.idle": "2024-12-03T15:14:52.680342Z",
     "shell.execute_reply": "2024-12-03T15:14:52.679713Z"
    },
    "papermill": {
     "duration": 0.108938,
     "end_time": "2024-12-03T15:14:52.682020",
     "exception": false,
     "start_time": "2024-12-03T15:14:52.573082",
     "status": "completed"
    },
    "tags": []
   },
   "outputs": [],
   "source": [
    "df_train = df_train.fillna(df_train.mean())\n",
    "\n",
    "df_test = df_test.fillna(df_test.mean())"
   ]
  },
  {
   "cell_type": "markdown",
   "id": "581118aa",
   "metadata": {
    "papermill": {
     "duration": 0.020813,
     "end_time": "2024-12-03T15:14:52.724582",
     "exception": false,
     "start_time": "2024-12-03T15:14:52.703769",
     "status": "completed"
    },
    "tags": []
   },
   "source": [
    "# Train model\n"
   ]
  },
  {
   "cell_type": "code",
   "execution_count": 17,
   "id": "f4da3dde",
   "metadata": {
    "execution": {
     "iopub.execute_input": "2024-12-03T15:14:52.767961Z",
     "iopub.status.busy": "2024-12-03T15:14:52.767491Z",
     "iopub.status.idle": "2024-12-03T15:14:52.776048Z",
     "shell.execute_reply": "2024-12-03T15:14:52.775225Z"
    },
    "papermill": {
     "duration": 0.031943,
     "end_time": "2024-12-03T15:14:52.777697",
     "exception": false,
     "start_time": "2024-12-03T15:14:52.745754",
     "status": "completed"
    },
    "tags": []
   },
   "outputs": [],
   "source": [
    "x_train = df_train.drop(columns=[\"sii\"], axis=1)\n",
    "\n",
    "y_train = df_train[\"sii\"]"
   ]
  },
  {
   "cell_type": "code",
   "execution_count": 18,
   "id": "8fd352d3",
   "metadata": {
    "execution": {
     "iopub.execute_input": "2024-12-03T15:14:52.819312Z",
     "iopub.status.busy": "2024-12-03T15:14:52.818615Z",
     "iopub.status.idle": "2024-12-03T15:15:03.974369Z",
     "shell.execute_reply": "2024-12-03T15:15:03.973481Z"
    },
    "papermill": {
     "duration": 11.178267,
     "end_time": "2024-12-03T15:15:03.976095",
     "exception": false,
     "start_time": "2024-12-03T15:14:52.797828",
     "status": "completed"
    },
    "tags": []
   },
   "outputs": [
    {
     "data": {
      "text/html": [
       "<style>#sk-container-id-1 {color: black;background-color: white;}#sk-container-id-1 pre{padding: 0;}#sk-container-id-1 div.sk-toggleable {background-color: white;}#sk-container-id-1 label.sk-toggleable__label {cursor: pointer;display: block;width: 100%;margin-bottom: 0;padding: 0.3em;box-sizing: border-box;text-align: center;}#sk-container-id-1 label.sk-toggleable__label-arrow:before {content: \"▸\";float: left;margin-right: 0.25em;color: #696969;}#sk-container-id-1 label.sk-toggleable__label-arrow:hover:before {color: black;}#sk-container-id-1 div.sk-estimator:hover label.sk-toggleable__label-arrow:before {color: black;}#sk-container-id-1 div.sk-toggleable__content {max-height: 0;max-width: 0;overflow: hidden;text-align: left;background-color: #f0f8ff;}#sk-container-id-1 div.sk-toggleable__content pre {margin: 0.2em;color: black;border-radius: 0.25em;background-color: #f0f8ff;}#sk-container-id-1 input.sk-toggleable__control:checked~div.sk-toggleable__content {max-height: 200px;max-width: 100%;overflow: auto;}#sk-container-id-1 input.sk-toggleable__control:checked~label.sk-toggleable__label-arrow:before {content: \"▾\";}#sk-container-id-1 div.sk-estimator input.sk-toggleable__control:checked~label.sk-toggleable__label {background-color: #d4ebff;}#sk-container-id-1 div.sk-label input.sk-toggleable__control:checked~label.sk-toggleable__label {background-color: #d4ebff;}#sk-container-id-1 input.sk-hidden--visually {border: 0;clip: rect(1px 1px 1px 1px);clip: rect(1px, 1px, 1px, 1px);height: 1px;margin: -1px;overflow: hidden;padding: 0;position: absolute;width: 1px;}#sk-container-id-1 div.sk-estimator {font-family: monospace;background-color: #f0f8ff;border: 1px dotted black;border-radius: 0.25em;box-sizing: border-box;margin-bottom: 0.5em;}#sk-container-id-1 div.sk-estimator:hover {background-color: #d4ebff;}#sk-container-id-1 div.sk-parallel-item::after {content: \"\";width: 100%;border-bottom: 1px solid gray;flex-grow: 1;}#sk-container-id-1 div.sk-label:hover label.sk-toggleable__label {background-color: #d4ebff;}#sk-container-id-1 div.sk-serial::before {content: \"\";position: absolute;border-left: 1px solid gray;box-sizing: border-box;top: 0;bottom: 0;left: 50%;z-index: 0;}#sk-container-id-1 div.sk-serial {display: flex;flex-direction: column;align-items: center;background-color: white;padding-right: 0.2em;padding-left: 0.2em;position: relative;}#sk-container-id-1 div.sk-item {position: relative;z-index: 1;}#sk-container-id-1 div.sk-parallel {display: flex;align-items: stretch;justify-content: center;background-color: white;position: relative;}#sk-container-id-1 div.sk-item::before, #sk-container-id-1 div.sk-parallel-item::before {content: \"\";position: absolute;border-left: 1px solid gray;box-sizing: border-box;top: 0;bottom: 0;left: 50%;z-index: -1;}#sk-container-id-1 div.sk-parallel-item {display: flex;flex-direction: column;z-index: 1;position: relative;background-color: white;}#sk-container-id-1 div.sk-parallel-item:first-child::after {align-self: flex-end;width: 50%;}#sk-container-id-1 div.sk-parallel-item:last-child::after {align-self: flex-start;width: 50%;}#sk-container-id-1 div.sk-parallel-item:only-child::after {width: 0;}#sk-container-id-1 div.sk-dashed-wrapped {border: 1px dashed gray;margin: 0 0.4em 0.5em 0.4em;box-sizing: border-box;padding-bottom: 0.4em;background-color: white;}#sk-container-id-1 div.sk-label label {font-family: monospace;font-weight: bold;display: inline-block;line-height: 1.2em;}#sk-container-id-1 div.sk-label-container {text-align: center;}#sk-container-id-1 div.sk-container {/* jupyter's `normalize.less` sets `[hidden] { display: none; }` but bootstrap.min.css set `[hidden] { display: none !important; }` so we also need the `!important` here to be able to override the default hidden behavior on the sphinx rendered scikit-learn.org. See: https://github.com/scikit-learn/scikit-learn/issues/21755 */display: inline-block !important;position: relative;}#sk-container-id-1 div.sk-text-repr-fallback {display: none;}</style><div id=\"sk-container-id-1\" class=\"sk-top-container\"><div class=\"sk-text-repr-fallback\"><pre>RandomForestRegressor(random_state=42)</pre><b>In a Jupyter environment, please rerun this cell to show the HTML representation or trust the notebook. <br />On GitHub, the HTML representation is unable to render, please try loading this page with nbviewer.org.</b></div><div class=\"sk-container\" hidden><div class=\"sk-item\"><div class=\"sk-estimator sk-toggleable\"><input class=\"sk-toggleable__control sk-hidden--visually\" id=\"sk-estimator-id-1\" type=\"checkbox\" checked><label for=\"sk-estimator-id-1\" class=\"sk-toggleable__label sk-toggleable__label-arrow\">RandomForestRegressor</label><div class=\"sk-toggleable__content\"><pre>RandomForestRegressor(random_state=42)</pre></div></div></div></div></div>"
      ],
      "text/plain": [
       "RandomForestRegressor(random_state=42)"
      ]
     },
     "execution_count": 18,
     "metadata": {},
     "output_type": "execute_result"
    }
   ],
   "source": [
    "model = RandomForestRegressor(n_estimators=100, random_state=42)\n",
    "\n",
    "model.fit(x_train, y_train)"
   ]
  },
  {
   "cell_type": "code",
   "execution_count": 19,
   "id": "42a9327f",
   "metadata": {
    "execution": {
     "iopub.execute_input": "2024-12-03T15:15:04.020483Z",
     "iopub.status.busy": "2024-12-03T15:15:04.019748Z",
     "iopub.status.idle": "2024-12-03T15:15:04.034168Z",
     "shell.execute_reply": "2024-12-03T15:15:04.033578Z"
    },
    "papermill": {
     "duration": 0.038035,
     "end_time": "2024-12-03T15:15:04.035941",
     "exception": false,
     "start_time": "2024-12-03T15:15:03.997906",
     "status": "completed"
    },
    "tags": []
   },
   "outputs": [],
   "source": [
    "y_pred = model.predict(df_test)\n",
    "\n",
    "rounded_pred = np.round(y_pred).astype(int)"
   ]
  },
  {
   "cell_type": "code",
   "execution_count": 20,
   "id": "e15ca2ad",
   "metadata": {
    "execution": {
     "iopub.execute_input": "2024-12-03T15:15:04.080914Z",
     "iopub.status.busy": "2024-12-03T15:15:04.080650Z",
     "iopub.status.idle": "2024-12-03T15:15:04.085326Z",
     "shell.execute_reply": "2024-12-03T15:15:04.084464Z"
    },
    "papermill": {
     "duration": 0.029155,
     "end_time": "2024-12-03T15:15:04.087219",
     "exception": false,
     "start_time": "2024-12-03T15:15:04.058064",
     "status": "completed"
    },
    "tags": []
   },
   "outputs": [],
   "source": [
    "submission = pd.DataFrame({\"id\": test_id, \"sii\": rounded_pred})"
   ]
  },
  {
   "cell_type": "code",
   "execution_count": 21,
   "id": "83614ed4",
   "metadata": {
    "execution": {
     "iopub.execute_input": "2024-12-03T15:15:04.167312Z",
     "iopub.status.busy": "2024-12-03T15:15:04.166655Z",
     "iopub.status.idle": "2024-12-03T15:15:04.172836Z",
     "shell.execute_reply": "2024-12-03T15:15:04.172280Z"
    },
    "papermill": {
     "duration": 0.02977,
     "end_time": "2024-12-03T15:15:04.174373",
     "exception": false,
     "start_time": "2024-12-03T15:15:04.144603",
     "status": "completed"
    },
    "tags": []
   },
   "outputs": [],
   "source": [
    "submission.to_csv(\"submission.csv\", index=False)"
   ]
  }
 ],
 "metadata": {
  "kaggle": {
   "accelerator": "gpu",
   "dataSources": [
    {
     "databundleVersionId": 9643020,
     "sourceId": 81933,
     "sourceType": "competition"
    }
   ],
   "isGpuEnabled": true,
   "isInternetEnabled": false,
   "language": "python",
   "sourceType": "notebook"
  },
  "kernelspec": {
   "display_name": "Python 3",
   "language": "python",
   "name": "python3"
  },
  "language_info": {
   "codemirror_mode": {
    "name": "ipython",
    "version": 3
   },
   "file_extension": ".py",
   "mimetype": "text/x-python",
   "name": "python",
   "nbconvert_exporter": "python",
   "pygments_lexer": "ipython3",
   "version": "3.10.14"
  },
  "papermill": {
   "default_parameters": {},
   "duration": 92.61424,
   "end_time": "2024-12-03T15:15:04.613875",
   "environment_variables": {},
   "exception": null,
   "input_path": "__notebook__.ipynb",
   "output_path": "__notebook__.ipynb",
   "parameters": {},
   "start_time": "2024-12-03T15:13:31.999635",
   "version": "2.6.0"
  }
 },
 "nbformat": 4,
 "nbformat_minor": 5
}
